{
 "cells": [
  {
   "cell_type": "code",
   "execution_count": 10,
   "id": "36c3f04a",
   "metadata": {},
   "outputs": [],
   "source": [
    "# ARITHMETHIC 1\n",
    "# #collect input from user\n",
    "a=input('Input a number:')\n",
    "b=input('Input a number:')"
   ]
  },
  {
   "cell_type": "code",
   "execution_count": 25,
   "id": "e13821db",
   "metadata": {},
   "outputs": [
    {
     "name": "stdout",
     "output_type": "stream",
     "text": [
      "15\n",
      "1.0\n",
      "100000\n"
     ]
    }
   ],
   "source": [
    "#import modules\n",
    "import math\n",
    "#convert data types to int\n",
    "a=int(a)\n",
    "b=int(b)\n",
    "\n",
    " \n",
    "    # 1. The sum of **a** and **b.**\n",
    "sum= a+b\n",
    "    #2. The difference when **b** is subtracted from *a*\n",
    "diffrence=a-b\n",
    "    #3. The product of **a** and *b*\n",
    "prod=a*b\n",
    "    #4. The quotient when **a** is divided by *b*\n",
    "quotient=a//b\n",
    "    #5. The remainder when **a** is divided by *b*\n",
    "remin=a%b\n",
    "    #6. The result of $log_{10}a$\n",
    "log=math.log10(a)    \n",
    "    #7. The result of\n",
    "exp=a**b    \n",
    "\n",
    "print(sum)\n",
    "print(log)\n",
    "print(exp)\n"
   ]
  },
  {
   "cell_type": "code",
   "execution_count": 31,
   "id": "8b89fad9",
   "metadata": {},
   "outputs": [
    {
     "name": "stdout",
     "output_type": "stream",
     "text": [
      "consumption is 47.042 l/km\n"
     ]
    }
   ],
   "source": [
    "# ARITHMETIC 2\n",
    "\n",
    "user_input_mpg=float(input())\n",
    "conversion=235.21/user_input_mpg\n",
    "print('consumption is',conversion,'l/km')\n",
    "\n"
   ]
  },
  {
   "cell_type": "code",
   "execution_count": 30,
   "id": "81443fbb",
   "metadata": {},
   "outputs": [
    {
     "ename": "ValueError",
     "evalue": "could not convert string to float: ''",
     "output_type": "error",
     "traceback": [
      "\u001b[0;31m---------------------------------------------------------------------------\u001b[0m",
      "\u001b[0;31mValueError\u001b[0m                                Traceback (most recent call last)",
      "\u001b[1;32m/Users/ninahulmanova/Desktop/Python Learning/Coding problems 18.11.ipynb Cell 4\u001b[0m in \u001b[0;36m<cell line: 6>\u001b[0;34m()\u001b[0m\n\u001b[1;32m      <a href='vscode-notebook-cell:/Users/ninahulmanova/Desktop/Python%20Learning/Coding%20problems%2018.11.ipynb#X16sZmlsZQ%3D%3D?line=2'>3</a>\u001b[0m \u001b[39mimport\u001b[39;00m \u001b[39mmath\u001b[39;00m\n\u001b[1;32m      <a href='vscode-notebook-cell:/Users/ninahulmanova/Desktop/Python%20Learning/Coding%20problems%2018.11.ipynb#X16sZmlsZQ%3D%3D?line=4'>5</a>\u001b[0m current_city\u001b[39m=\u001b[39m\u001b[39minput\u001b[39m(\u001b[39m'\u001b[39m\u001b[39mwhere are you?\u001b[39m\u001b[39m'\u001b[39m)\n\u001b[0;32m----> <a href='vscode-notebook-cell:/Users/ninahulmanova/Desktop/Python%20Learning/Coding%20problems%2018.11.ipynb#X16sZmlsZQ%3D%3D?line=5'>6</a>\u001b[0m lat_1\u001b[39m=\u001b[39m\u001b[39mfloat\u001b[39;49m(\u001b[39minput\u001b[39;49m(\u001b[39m'\u001b[39;49m\u001b[39mprovide your current latitude\u001b[39;49m\u001b[39m'\u001b[39;49m))\n\u001b[1;32m      <a href='vscode-notebook-cell:/Users/ninahulmanova/Desktop/Python%20Learning/Coding%20problems%2018.11.ipynb#X16sZmlsZQ%3D%3D?line=6'>7</a>\u001b[0m long_1\u001b[39m=\u001b[39m\u001b[39mfloat\u001b[39m(\u001b[39minput\u001b[39m(\u001b[39m'\u001b[39m\u001b[39mprovide your current longitude\u001b[39m\u001b[39m'\u001b[39m))\n\u001b[1;32m      <a href='vscode-notebook-cell:/Users/ninahulmanova/Desktop/Python%20Learning/Coding%20problems%2018.11.ipynb#X16sZmlsZQ%3D%3D?line=7'>8</a>\u001b[0m destination_city\u001b[39m=\u001b[39m\u001b[39minput\u001b[39m(\u001b[39m'\u001b[39m\u001b[39mwhere do you want to go?\u001b[39m\u001b[39m'\u001b[39m)\n",
      "\u001b[0;31mValueError\u001b[0m: could not convert string to float: ''"
     ]
    }
   ],
   "source": [
    "# ARITHMETIC 3\n",
    "\n",
    "import math\n",
    "\n",
    "current_city=input('where are you?')\n",
    "lat_1=float(input('provide your current latitude'))\n",
    "long_1=float(input('provide your current longitude'))\n",
    "destination_city=input('where do you want to go?')\n",
    "lat_2=float(input('provide your destinations latitude'))\n",
    "long_2=float(input('provide your destinations longitude'))\n",
    "\n",
    "#or lat_1=math.radians(input('provide your current latitude')))\n",
    "\n",
    "#numpy. deg2rad()\n",
    "\n",
    "#pi=22/7\n",
    "#degree = float(input(\"Input degrees: \"))\n",
    "#radian = degree*(pi/180)\n",
    "#print(radian)\n",
    "\n",
    "lat_1=math.radians(lat_1)\n",
    "long_1=math.radians(long_1)\n",
    "lat_2=math.radians(lat_2)\n",
    "long_2=math.radians(long_2)\n",
    "\n",
    "\n",
    "distance = 6371.01 * math.acos(math.sin(lat_1) *math.sin(lat_2)+math.cos(lat_1)* math.cos(lat_2)* math.cos(long_1-long_2))\n",
    "print(distance)\n",
    "\n",
    "\n",
    "\n",
    "print(f\"The distance from {current_city} to {destination_city} is {distance} km\")"
   ]
  },
  {
   "cell_type": "code",
   "execution_count": null,
   "id": "694e0b0a",
   "metadata": {},
   "outputs": [],
   "source": [
    "-33.8688\n",
    "151.2093\n",
    "\n",
    "stock\n",
    "59.3293\n",
    "18.0686\n",
    "\n",
    "kish\n",
    "47.003670\n",
    "28.907089\n",
    "\n",
    "las palmas\n",
    "28.2574\n",
    "14.1466\n",
    "\n",
    "brno\n",
    "49.1951\n",
    "16.6068\n",
    "\n",
    "bratislava\n",
    "48.1486\n",
    "17.1077"
   ]
  },
  {
   "cell_type": "code",
   "execution_count": 29,
   "id": "bef54863",
   "metadata": {},
   "outputs": [
    {
     "name": "stdout",
     "output_type": "stream",
     "text": [
      "stay at home!\n"
     ]
    }
   ],
   "source": [
    "sky_is=input()\n",
    "\n",
    "if sky_is=='blue':\n",
    "  print('nice_weather!')\n",
    "if sky_is != 'blue' :\n",
    "  print ('stay at home!')\n"
   ]
  },
  {
   "cell_type": "code",
   "execution_count": 37,
   "id": "754a1907",
   "metadata": {},
   "outputs": [
    {
     "name": "stdout",
     "output_type": "stream",
     "text": [
      "10.0 feet is 120.0 inches, 3.33 yards and 0.001893939393939394 mile\n"
     ]
    }
   ],
   "source": [
    "ft=float(input())\n",
    "inches = round(ft*12,2)\n",
    "yards = round(ft/3,2)\n",
    "miles = ft/5280\n",
    "print(f\"{ft} feet is {inches} inches, {yards} yards and {miles} mile\")\n"
   ]
  },
  {
   "cell_type": "code",
   "execution_count": 34,
   "id": "ccec99a0",
   "metadata": {},
   "outputs": [
    {
     "name": "stdout",
     "output_type": "stream",
     "text": [
      "240.0\n"
     ]
    }
   ],
   "source": [
    "def converter():\n",
    "    ft=float(input())\n",
    "    inches = ft*12\n",
    "    yards = ft/3\n",
    "    miles = ft/5280\n",
    "    print(inches)\n",
    "converter()"
   ]
  },
  {
   "cell_type": "code",
   "execution_count": 38,
   "id": "709084c0",
   "metadata": {},
   "outputs": [
    {
     "name": "stdout",
     "output_type": "stream",
     "text": [
      "{'nina': '50', 'tara': '20', 'max': '10', 'ela': '45', 'ben': '5'}\n"
     ]
    }
   ],
   "source": [
    "student = {}\n",
    "\n",
    "for i in range(5):\n",
    "    name = input(\"Enter student's name: \")\n",
    "    score = input(\"Enter student's score: \")\n",
    "\n",
    "    student[name] = score\n",
    "\n",
    "print(student)"
   ]
  },
  {
   "cell_type": "code",
   "execution_count": 50,
   "id": "8fb3bf06",
   "metadata": {},
   "outputs": [
    {
     "name": "stdout",
     "output_type": "stream",
     "text": [
      "{'nina': 10}\n",
      "{'nina': 10, 'max': 20}\n",
      "{'nina': 20, 'max': 20}\n"
     ]
    },
    {
     "ename": "ValueError",
     "evalue": "invalid literal for int() with base 10: ''",
     "output_type": "error",
     "traceback": [
      "\u001b[0;31m---------------------------------------------------------------------------\u001b[0m",
      "\u001b[0;31mValueError\u001b[0m                                Traceback (most recent call last)",
      "\u001b[1;32m/Users/ninahulmanova/Desktop/Python Learning/Coding problems 18.11.ipynb Cell 10\u001b[0m in \u001b[0;36m<cell line: 12>\u001b[0;34m()\u001b[0m\n\u001b[1;32m     <a href='vscode-notebook-cell:/Users/ninahulmanova/Desktop/Python%20Learning/Coding%20problems%2018.11.ipynb#X25sZmlsZQ%3D%3D?line=9'>10</a>\u001b[0m     \u001b[39mprint\u001b[39m(d)\n\u001b[1;32m     <a href='vscode-notebook-cell:/Users/ninahulmanova/Desktop/Python%20Learning/Coding%20problems%2018.11.ipynb#X25sZmlsZQ%3D%3D?line=10'>11</a>\u001b[0m \u001b[39mwhile\u001b[39;00m \u001b[39mTrue\u001b[39;00m:\n\u001b[0;32m---> <a href='vscode-notebook-cell:/Users/ninahulmanova/Desktop/Python%20Learning/Coding%20problems%2018.11.ipynb#X25sZmlsZQ%3D%3D?line=11'>12</a>\u001b[0m     name()\n",
      "\u001b[1;32m/Users/ninahulmanova/Desktop/Python Learning/Coding problems 18.11.ipynb Cell 10\u001b[0m in \u001b[0;36mname\u001b[0;34m()\u001b[0m\n\u001b[1;32m      <a href='vscode-notebook-cell:/Users/ninahulmanova/Desktop/Python%20Learning/Coding%20problems%2018.11.ipynb#X25sZmlsZQ%3D%3D?line=1'>2</a>\u001b[0m \u001b[39mdef\u001b[39;00m \u001b[39mname\u001b[39m():\n\u001b[1;32m      <a href='vscode-notebook-cell:/Users/ninahulmanova/Desktop/Python%20Learning/Coding%20problems%2018.11.ipynb#X25sZmlsZQ%3D%3D?line=2'>3</a>\u001b[0m     x \u001b[39m=\u001b[39m \u001b[39minput\u001b[39m(\u001b[39m'\u001b[39m\u001b[39mPlease enter your name: \u001b[39m\u001b[39m'\u001b[39m)\n\u001b[0;32m----> <a href='vscode-notebook-cell:/Users/ninahulmanova/Desktop/Python%20Learning/Coding%20problems%2018.11.ipynb#X25sZmlsZQ%3D%3D?line=3'>4</a>\u001b[0m     y \u001b[39m=\u001b[39m \u001b[39mint\u001b[39;49m(\u001b[39minput\u001b[39;49m(\u001b[39m'\u001b[39;49m\u001b[39mPlease enter your score: \u001b[39;49m\u001b[39m'\u001b[39;49m))\n\u001b[1;32m      <a href='vscode-notebook-cell:/Users/ninahulmanova/Desktop/Python%20Learning/Coding%20problems%2018.11.ipynb#X25sZmlsZQ%3D%3D?line=4'>5</a>\u001b[0m     \u001b[39mif\u001b[39;00m x \u001b[39min\u001b[39;00m d\u001b[39m.\u001b[39mkeys():\n\u001b[1;32m      <a href='vscode-notebook-cell:/Users/ninahulmanova/Desktop/Python%20Learning/Coding%20problems%2018.11.ipynb#X25sZmlsZQ%3D%3D?line=5'>6</a>\u001b[0m         d[x]\u001b[39m=\u001b[39md[x]\u001b[39m+\u001b[39my\n",
      "\u001b[0;31mValueError\u001b[0m: invalid literal for int() with base 10: ''"
     ]
    }
   ],
   "source": [
    "d = {}\n",
    "def name():\n",
    "    x = input('Please enter your name: ')\n",
    "    y = int(input('Please enter your score: '))\n",
    "    if x in d.keys():\n",
    "        d[x]=d[x]+y\n",
    "    else:\n",
    "        d[x] = y  \n",
    "\n",
    "    print(d)\n",
    "while True:\n",
    "    name()\n",
    "  \n"
   ]
  }
 ],
 "metadata": {
  "kernelspec": {
   "display_name": "Python 3.9.12 ('base')",
   "language": "python",
   "name": "python3"
  },
  "language_info": {
   "codemirror_mode": {
    "name": "ipython",
    "version": 3
   },
   "file_extension": ".py",
   "mimetype": "text/x-python",
   "name": "python",
   "nbconvert_exporter": "python",
   "pygments_lexer": "ipython3",
   "version": "3.9.12"
  },
  "vscode": {
   "interpreter": {
    "hash": "c10dff21259e1ee64d81784851ad929ba74fa2c689046923112b037867283e5c"
   }
  }
 },
 "nbformat": 4,
 "nbformat_minor": 5
}
