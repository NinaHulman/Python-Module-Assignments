{
 "cells": [
  {
   "cell_type": "markdown",
   "id": "d5f9b9a2",
   "metadata": {},
   "source": [
    "# 1\n",
    "Create a program that reads two integers, a and b, from the user. Your program should compute and display:"
   ]
  },
  {
   "cell_type": "code",
   "execution_count": 1,
   "id": "e13821db",
   "metadata": {},
   "outputs": [
    {
     "name": "stdout",
     "output_type": "stream",
     "text": [
      "7\n",
      "0.6989700043360189\n",
      "25\n"
     ]
    }
   ],
   "source": [
    "#import modules for counting log\n",
    "import math\n",
    "\n",
    "#collect input from user\n",
    "a=input('Input a number:')\n",
    "b=input('Input a number:')\n",
    "\n",
    "#convert data types to int\n",
    "a=int(a)\n",
    "b=int(b)\n",
    "    # 1. The sum of **a** and **b.**\n",
    "sum= a+b\n",
    "    #2. The difference when **b** is subtracted from *a*\n",
    "diffrence=a-b\n",
    "    #3. The product of **a** and *b*\n",
    "prod=a*b\n",
    "    #4. The quotient when **a** is divided by *b*\n",
    "quotient=a//b\n",
    "    #5. The remainder when **a** is divided by *b*\n",
    "remin=a%b\n",
    "    #6. The result of log_{10}a\n",
    "log=math.log10(a)    \n",
    "    #7. The result of a^b\n",
    "exp=a**b    \n",
    "\n",
    "print(sum)\n",
    "print(log)\n",
    "print(exp)\n"
   ]
  },
  {
   "cell_type": "markdown",
   "id": "86d704f8",
   "metadata": {},
   "source": [
    "# 2\n",
    "In the US, fuel efficiency for vehicles is normally expressed in miles-per-gallon (MPG). In Canada, fuel efficiency is normally expressed in liters-per-hundred-kilometers (L/100 km). Use your research skills to determine how to convert from MPG to L/100 km. Then create a program that reads a value from the user (in American units) and displays the equivalent fuel efficiency in Canadian units."
   ]
  },
  {
   "cell_type": "code",
   "execution_count": 31,
   "id": "8b89fad9",
   "metadata": {},
   "outputs": [
    {
     "name": "stdout",
     "output_type": "stream",
     "text": [
      "consumption is 47.042 l/km\n"
     ]
    }
   ],
   "source": [
    "user_input_mpg=float(input())\n",
    "conversion=235.21/user_input_mpg\n",
    "print('consumption is',conversion,'l/km')\n",
    "\n"
   ]
  },
  {
   "cell_type": "markdown",
   "id": "3b6cea65",
   "metadata": {},
   "source": [
    "# 3\n",
    "The surface of the earth is curved, and the distance between degrees of longitude varies with latitude. As a result, finding the distance between two points on the surface of the earth is more complicated than simply using the Pythagorean theorem. The equation for finding the distance between two points on the surface of the earth in kilometers is given by:\n",
    "    \n",
    "distance = 6371.01 \\times arccos(sin(lat_1) \\times sin(lat_2)+cos(lat_1)\\times cos(lat_2)\\times cos(long_1-long_2))\n",
    "where: (lat_1, long_1) and (lat_2,long_2)  are the latitude and longitude of two points on the Earth’s surface.\n",
    "    \n",
    "Create a program that allows the user to enter the latitude and longitude of two points on the Earth in degrees. Your program should display the distance between the points in kilometers."
   ]
  },
  {
   "cell_type": "code",
   "execution_count": 2,
   "id": "81443fbb",
   "metadata": {},
   "outputs": [
    {
     "name": "stdout",
     "output_type": "stream",
     "text": [
      "1544.8643861878634\n",
      "The distance from stockholm to kish is 1544.8643861878634 km\n"
     ]
    }
   ],
   "source": [
    "import math\n",
    "\n",
    "current_city=input('where are you?')\n",
    "lat_1=float(input('provide your current latitude'))\n",
    "long_1=float(input('provide your current longitude'))\n",
    "destination_city=input('where do you want to go?')\n",
    "lat_2=float(input('provide your destinations latitude'))\n",
    "long_2=float(input('provide your destinations longitude'))\n",
    "\n",
    "lat_1=math.radians(lat_1)\n",
    "long_1=math.radians(long_1)\n",
    "lat_2=math.radians(lat_2)\n",
    "long_2=math.radians(long_2)\n",
    "\n",
    "\n",
    "distance = 6371.01 * math.acos(math.sin(lat_1) *math.sin(lat_2)+math.cos(lat_1)* math.cos(lat_2)* math.cos(long_1-long_2))\n",
    "print(distance)\n",
    "\n",
    "\n",
    "\n",
    "print(f\"The distance from {current_city} to {destination_city} is {distance} km.\")"
   ]
  },
  {
   "cell_type": "markdown",
   "id": "7fc59f96",
   "metadata": {},
   "source": [
    "Also assuming we travel using an aeroplane that is moving at a minimum speed of 740 km/h how long will it take us to travel that distance?"
   ]
  },
  {
   "cell_type": "code",
   "execution_count": 4,
   "id": "fc3af52b",
   "metadata": {},
   "outputs": [
    {
     "name": "stdout",
     "output_type": "stream",
     "text": [
      "The flight duration is 2.09 hours.\n"
     ]
    }
   ],
   "source": [
    "time_of_travel=round(distance/740,2)\n",
    "print('The flight duration is '+ str(time_of_travel)+ ' hours.')"
   ]
  },
  {
   "cell_type": "markdown",
   "id": "55587f86",
   "metadata": {},
   "source": [
    "# 4\n",
    "Distance units: Create a program that begins by reading a measurement from the user in feet. Then your program should display the equivalent distance in inches, yards and miles."
   ]
  },
  {
   "cell_type": "code",
   "execution_count": 8,
   "id": "d2e555f1",
   "metadata": {},
   "outputs": [
    {
     "name": "stdout",
     "output_type": "stream",
     "text": [
      "12.0 0.3333333333333333 0.0001893939393939394\n"
     ]
    }
   ],
   "source": [
    "def converter():\n",
    "    ft=float(input())\n",
    "    inches = ft*12\n",
    "    yards = ft/3\n",
    "    miles = ft/5280\n",
    "    print(inches, yards, miles)\n",
    "converter()"
   ]
  },
  {
   "cell_type": "markdown",
   "id": "fa93611b",
   "metadata": {},
   "source": [
    "# 5\n",
    "Area of a regular polygon: A polygon is regular if its sides are all the same length and the angles between all of the adjacent sides are equal. "
   ]
  },
  {
   "cell_type": "code",
   "execution_count": 12,
   "id": "a5ca6869",
   "metadata": {},
   "outputs": [
    {
     "name": "stdout",
     "output_type": "stream",
     "text": [
      "Area of this polygon is 14.53.\n"
     ]
    }
   ],
   "source": [
    "# first we need to import math for the mathematical operation\n",
    "import math\n",
    "#define n and s\n",
    "n=int(input('Enter number of sides'))\n",
    "s=float(input('Enter the lenght of the sides'))\n",
    "# we use formual for counting area of polygon\n",
    "\n",
    "area = n * s**2/ 4 * math.tan(math.pi/n)\n",
    "# show the result rounded to 2 decimals\n",
    "print('Area of this polygon is ' + str(round(area,2))+ '.')"
   ]
  },
  {
   "cell_type": "markdown",
   "id": "06b60aad",
   "metadata": {},
   "source": [
    "# 6\n",
    "Current Time: Python has a couple of modules that can be used when working with time. This includes a module called time and a function/method within the time module called asctime. It reads the current time from the computer’s internal clock and returns it in a human-readable format. Write a program that displays the current time and date."
   ]
  },
  {
   "cell_type": "code",
   "execution_count": 15,
   "id": "7c472133",
   "metadata": {},
   "outputs": [
    {
     "name": "stdout",
     "output_type": "stream",
     "text": [
      "It is:  Thu Dec  1 09:42:42 2022\n"
     ]
    }
   ],
   "source": [
    "import time\n",
    "\n",
    "print(\"It is: \", time.asctime())"
   ]
  },
  {
   "cell_type": "markdown",
   "id": "4b713674",
   "metadata": {},
   "source": [
    "# 7\n",
    "Wind Chill Index: When the wind blows in cold weather, the air feels even colder that it actually is because the movement of the air increases the rate of cooling for warm objects, like people. This effect is known as wind chill.\n",
    "The formula below is used to compute the wind chill index. \n",
    "WCI = 13.12 + 0.6215T_a - 11.37V^{0.16}+0.3965T_aV^{0.16}\n",
    "Where: T_a is the air temperature in degrees Celsius and V is the wind speed in kilometers per hour. Write a program that begins by reading the air temperature and wind speed from the user. Once these values have been read, your program should display the wind chill index rounded to the closes integer."
   ]
  },
  {
   "cell_type": "code",
   "execution_count": 2,
   "id": "4045d360",
   "metadata": {},
   "outputs": [
    {
     "name": "stdout",
     "output_type": "stream",
     "text": [
      "If the wind speed is 5.0Km/h and the temperature of 10.0°C, the wind chill index is 10.\n"
     ]
    }
   ],
   "source": [
    "import math\n",
    "\n",
    "#colect inputs from user\n",
    "t= float(input('What is the temperature?'))\n",
    "v= float(input('What is the wind speed?'))\n",
    "\n",
    "#use the formula to count WCI\n",
    "\n",
    "wci = 13.12 + 0.6215*t -  11.37*math.pow(v, 0.16) + 0.3965*t*math.pow(v, 0.16)\n",
    "\n",
    "# print it rounded\n",
    "print(f\"If the wind speed is {v}Km/h and the temperature of {t}°C, the wind chill index is {int(round(wci, 0))}.\")\n",
    "\n"
   ]
  },
  {
   "cell_type": "markdown",
   "id": "9103b854",
   "metadata": {},
   "source": [
    "# 8\n",
    "Sum of digits in an integer: Develop a program that reads a four digit integer from the user and displays the sum of the digits in the number. For example, if the user enters 3141 then your program should display the result of the sum 3+1+4+1=9."
   ]
  },
  {
   "cell_type": "code",
   "execution_count": 8,
   "id": "62606472",
   "metadata": {},
   "outputs": [
    {
     "data": {
      "text/plain": [
       "14"
      ]
     },
     "execution_count": 8,
     "metadata": {},
     "output_type": "execute_result"
    }
   ],
   "source": [
    "def sum_of_digits(num):\n",
    "    sum=0\n",
    "    for digits in str(num):\n",
    "        sum+=int(digits)\n",
    "    return sum\n",
    "\n",
    "sum_of_digits(2345)"
   ]
  }
 ],
 "metadata": {
  "kernelspec": {
   "display_name": "Python 3.9.12 ('base')",
   "language": "python",
   "name": "python3"
  },
  "language_info": {
   "codemirror_mode": {
    "name": "ipython",
    "version": 3
   },
   "file_extension": ".py",
   "mimetype": "text/x-python",
   "name": "python",
   "nbconvert_exporter": "python",
   "pygments_lexer": "ipython3",
   "version": "3.9.12"
  },
  "vscode": {
   "interpreter": {
    "hash": "c10dff21259e1ee64d81784851ad929ba74fa2c689046923112b037867283e5c"
   }
  }
 },
 "nbformat": 4,
 "nbformat_minor": 5
}
