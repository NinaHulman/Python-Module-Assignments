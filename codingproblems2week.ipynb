{
 "cells": [
  {
   "cell_type": "markdown",
   "metadata": {},
   "source": [
    "# 1\n",
    "Using problem 3 in week 1, write functions for the following:\n",
    "    1. Collecting the inputs for the problem. Convert the inputs to the relevant types they should be.\n",
    "    2. Calculating the equation given the inputs from the above.\n",
    "    3. Printing your result in a preformatted string.\n",
    "Ensure to include a main program that reads the values from the user."
   ]
  },
  {
   "cell_type": "code",
   "execution_count": 2,
   "metadata": {},
   "outputs": [
    {
     "name": "stdout",
     "output_type": "stream",
     "text": [
      "The distance from zurich to Mexico city is 8475.16 km.\n",
      "The flight duration is 11.45 hours.\n"
     ]
    }
   ],
   "source": [
    "import math\n",
    "\n",
    "current_city=input('where are you?')\n",
    "lat_1=float(input('provide your current latitude'))\n",
    "long_1=float(input('provide your current longitude'))\n",
    "destination_city=input('where do you want to go?')\n",
    "lat_2=float(input('provide your destinations latitude'))\n",
    "long_2=float(input('provide your destinations longitude'))\n",
    "\n",
    "lat_1=math.radians(lat_1)\n",
    "long_1=math.radians(long_1)\n",
    "lat_2=math.radians(lat_2)\n",
    "long_2=math.radians(long_2)\n",
    "\n",
    "\n",
    "distance = round(6371.01 * math.acos(math.sin(lat_1) *math.sin(lat_2)+math.cos(lat_1)* math.cos(lat_2)* math.cos(long_1-long_2)),2)\n",
    "print(f\"The distance from {current_city} to {destination_city} is {distance} km.\")\n",
    "\n",
    "time_of_travel=round(distance/740,2)\n",
    "print('The flight duration is '+ str(time_of_travel)+ ' hours.')"
   ]
  },
  {
   "cell_type": "markdown",
   "metadata": {},
   "source": [
    "# 2\n",
    "Write a function that takes three numbers as parameters, and returns the mean value of those parameters as its result. Include a main program that reads three values from the user and displays their mean."
   ]
  },
  {
   "cell_type": "code",
   "execution_count": 43,
   "metadata": {},
   "outputs": [
    {
     "name": "stdout",
     "output_type": "stream",
     "text": [
      "Mean of the values you entered is 5.33 .\n"
     ]
    }
   ],
   "source": [
    "import statistics\n",
    "x=int(input())\n",
    "y=int(input())\n",
    "z=int(input())\n",
    "values=[x,y,z]\n",
    "def mean_value(values):\n",
    "    return statistics.mean(values)\n",
    "    \n",
    "print('Mean of the values you entered is', round(mean_value(values),2),'.')"
   ]
  },
  {
   "cell_type": "markdown",
   "metadata": {},
   "source": [
    "# 3 \n",
    "Create a program that identifies all of the words in a string entered by a user. Begin by writing a function that takes a string of text as its only parameter. Your function should return a list of the words in the string with the punctuation marks removed. Punctuation marks include commas, periods, question marks, hyphens, apostrophes, exclamation points, colons, and semicolons. "
   ]
  },
  {
   "cell_type": "code",
   "execution_count": 69,
   "metadata": {},
   "outputs": [
    {
     "name": "stdout",
     "output_type": "stream",
     "text": [
      "['try', 'to', 'come', 'on', 'time']\n"
     ]
    }
   ],
   "source": [
    "def words_identificator (sentence):\n",
    "    words = sentence.lower().replace(',', ' ').replace('.', ' ').replace('?', ' ').replace('-', ' ').replace(\"'\", ' ').replace('!', ' ').replace(':', ' ').replace(';', ' ').split()\n",
    "    return words\n",
    "\n",
    "print(words_identificator(input(\"Write your sentence: \")))\n",
    "\n"
   ]
  },
  {
   "cell_type": "markdown",
   "metadata": {},
   "source": [
    "# 4\n",
    "Create a program that will serve as a class database and will allow users to add names and scores to the database. For each name and score that is added, print the dictionary database for the user.\n",
    "Further Work: \n",
    "   1. Add an improvement to subtract scores from a given user.\n",
    "   2. Add an improvement to save the database to a local file."
   ]
  },
  {
   "cell_type": "code",
   "execution_count": 5,
   "metadata": {},
   "outputs": [
    {
     "name": "stdout",
     "output_type": "stream",
     "text": [
      "dict_keys([])\n",
      "{'nina': 34}\n",
      "dict_keys(['nina'])\n",
      "{'nina': 34, 'jana': 56}\n"
     ]
    },
    {
     "ename": "ValueError",
     "evalue": "invalid literal for int() with base 10: ''",
     "output_type": "error",
     "traceback": [
      "\u001b[0;31m---------------------------------------------------------------------------\u001b[0m",
      "\u001b[0;31mValueError\u001b[0m                                Traceback (most recent call last)",
      "Cell \u001b[0;32mIn [5], line 13\u001b[0m\n\u001b[1;32m     11\u001b[0m     \u001b[39mprint\u001b[39m(d)\n\u001b[1;32m     12\u001b[0m \u001b[39mwhile\u001b[39;00m \u001b[39mTrue\u001b[39;00m:\n\u001b[0;32m---> 13\u001b[0m     name_score()\n",
      "Cell \u001b[0;32mIn [5], line 4\u001b[0m, in \u001b[0;36mname_score\u001b[0;34m()\u001b[0m\n\u001b[1;32m      2\u001b[0m \u001b[39mdef\u001b[39;00m \u001b[39mname_score\u001b[39m():\n\u001b[1;32m      3\u001b[0m     x \u001b[39m=\u001b[39m \u001b[39minput\u001b[39m(\u001b[39m'\u001b[39m\u001b[39mPlease enter your name: \u001b[39m\u001b[39m'\u001b[39m)\n\u001b[0;32m----> 4\u001b[0m     y \u001b[39m=\u001b[39m \u001b[39mint\u001b[39;49m(\u001b[39minput\u001b[39;49m(\u001b[39m'\u001b[39;49m\u001b[39mPlease enter your score: \u001b[39;49m\u001b[39m'\u001b[39;49m))\n\u001b[1;32m      5\u001b[0m     \u001b[39mprint\u001b[39m(d\u001b[39m.\u001b[39mkeys())\n\u001b[1;32m      6\u001b[0m     \u001b[39mif\u001b[39;00m x \u001b[39min\u001b[39;00m d\u001b[39m.\u001b[39mkeys():\n",
      "\u001b[0;31mValueError\u001b[0m: invalid literal for int() with base 10: ''"
     ]
    }
   ],
   "source": [
    "d = {}\n",
    "def name_score():\n",
    "    x = input('Please enter your name: ')\n",
    "    y = int(input('Please enter your score: '))\n",
    "    print(d.keys())\n",
    "    if x in d.keys():\n",
    "        d[x]=d[x]+y\n",
    "    else:\n",
    "        d[x] = y  \n",
    "\n",
    "    print(d)\n",
    "while True:\n",
    "    name_score()\n",
    "\n",
    "       \n"
   ]
  },
  {
   "cell_type": "markdown",
   "metadata": {},
   "source": [
    "# 5\n",
    "A prime number is an integer greater than 1 that is only divisible by one and itself. Write a function that determines whether or not its parameter is prime, returning True if it is and False otherwise. Write a main program that reads an integer from the user and displays a message indicating whether or not it is a prime. Ensure tht the main program will not run if the file containing your solution is imported into another program."
   ]
  },
  {
   "cell_type": "code",
   "execution_count": 12,
   "metadata": {},
   "outputs": [
    {
     "name": "stdout",
     "output_type": "stream",
     "text": [
      "False\n"
     ]
    }
   ],
   "source": [
    "def prime():\n",
    "    int1 = int(input(\"Enter a number here: \")) #ask user input as integer\n",
    "    if int1 > 1: #prime must be greater than 1\n",
    "\n",
    "        #other conditions\n",
    "        for i in range (2, int1): #range from 2 till int1-1\n",
    "            if (int1 % i) == 0: #check if the integer is divisible\n",
    "                print(False) #if conditions is met (integer divisible), int1 is not prime\n",
    "                break # break out the loop\n",
    "        \n",
    "        else: # only runs if we don't break out the for loop\n",
    "            print(True)\n",
    "\n",
    "    else: # if int1 is not greater than 1\n",
    "        print(False)\n",
    "\n",
    "prime()\n",
    "\n"
   ]
  }
 ],
 "metadata": {
  "kernelspec": {
   "display_name": "Python 3.11.0 64-bit",
   "language": "python",
   "name": "python3"
  },
  "language_info": {
   "codemirror_mode": {
    "name": "ipython",
    "version": 3
   },
   "file_extension": ".py",
   "mimetype": "text/x-python",
   "name": "python",
   "nbconvert_exporter": "python",
   "pygments_lexer": "ipython3",
   "version": "3.11.0"
  },
  "orig_nbformat": 4,
  "vscode": {
   "interpreter": {
    "hash": "aee8b7b246df8f9039afb4144a1f6fd8d2ca17a180786b69acc140d282b71a49"
   }
  }
 },
 "nbformat": 4,
 "nbformat_minor": 2
}
